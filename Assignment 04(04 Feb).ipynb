{
 "cells": [
  {
   "cell_type": "markdown",
   "id": "fa08ae9e-ea43-433a-b496-74dca27f4458",
   "metadata": {},
   "source": [
    "Q,No-01    Create a python program to sort the given list of tuples based on integer value using a\n",
    "lambda function. \n",
    "\n",
    "\n",
    "[('Sachin Tendulkar', 34357), ('Ricky Ponting', 27483), ('Jack Kallis', 25534), ('Virat Kohli', 24936)]"
   ]
  },
  {
   "cell_type": "markdown",
   "id": "f17db40f-ae0b-4ded-82ee-2b43908cd441",
   "metadata": {},
   "source": [
    "Ans:"
   ]
  },
  {
   "cell_type": "code",
   "execution_count": 3,
   "id": "9841a645-4a32-4a52-a6de-2bd24ae9e28c",
   "metadata": {},
   "outputs": [],
   "source": [
    "list_tuple = [('Sachin Tendulkar', 34357), ('Ricky Ponting', 27483), ('Jack Kallis', 25534), \n",
    "              ('Virat Kohli', 24936)]"
   ]
  },
  {
   "cell_type": "code",
   "execution_count": 4,
   "id": "7a0509b3-5cca-4cc2-85dd-48a3051c2634",
   "metadata": {},
   "outputs": [
    {
     "name": "stdout",
     "output_type": "stream",
     "text": [
      "('Virat Kohli', 24936)\n",
      "('Jack Kallis', 25534)\n",
      "('Ricky Ponting', 27483)\n",
      "('Sachin Tendulkar', 34357)\n"
     ]
    }
   ],
   "source": [
    "sorted_data = sorted(list_tuple, key=lambda x: x[1])\n",
    "\n",
    "for item in sorted_data:\n",
    "    print(item)"
   ]
  },
  {
   "cell_type": "markdown",
   "id": "d2a404a4-4d94-43f1-80f9-ff352dd317b8",
   "metadata": {},
   "source": [
    "xxxxxxxxxxxxxxxxxxxxxxxxxxxxxxxxxxxxxxxxxxxxxxxxxxxxxxxxxxxxxxxxxxxxxxxxxxxxxxxxxxxxxxxxxxxxxxxxxxxxxxxxxxxxxxxxxxxxxxxxxxxxxxx"
   ]
  },
  {
   "cell_type": "markdown",
   "id": "a71922ad-1035-462d-a33d-790f579f297f",
   "metadata": {},
   "source": [
    "Q.No-02    Write a Python Program to find the squares of all the numbers in the given list of integers using\n",
    "lambda and map functions.\n",
    "\n",
    "\n",
    "[1, 2, 3, 4, 5, 6, 7, 8, 9, 10]"
   ]
  },
  {
   "cell_type": "markdown",
   "id": "82e38671-43a8-4453-9e24-79a64502826b",
   "metadata": {},
   "source": [
    "Ans:"
   ]
  },
  {
   "cell_type": "code",
   "execution_count": 8,
   "id": "e5d781dc-8395-45cc-91fd-d88cf6afbb36",
   "metadata": {},
   "outputs": [],
   "source": [
    "Given_list = [1, 2, 3, 4, 5, 6, 7, 8, 9, 10]"
   ]
  },
  {
   "cell_type": "code",
   "execution_count": 9,
   "id": "b8006c59-c27e-4326-89c0-fcad2d6245ca",
   "metadata": {},
   "outputs": [],
   "source": [
    "def Square(x):\n",
    "    return x**2"
   ]
  },
  {
   "cell_type": "code",
   "execution_count": 10,
   "id": "0adeae14-0c96-4fc3-893c-07d0ec15e383",
   "metadata": {},
   "outputs": [
    {
     "data": {
      "text/plain": [
       "[1, 4, 9, 16, 25, 36, 49, 64, 81, 100]"
      ]
     },
     "execution_count": 10,
     "metadata": {},
     "output_type": "execute_result"
    }
   ],
   "source": [
    "list(map(Square,Given_list))"
   ]
  },
  {
   "cell_type": "markdown",
   "id": "38e2637f-ac0a-4c54-ab0a-a60b379886f3",
   "metadata": {},
   "source": [
    "xxxxxxxxxxxxxxxxxxxxxxxxxxxxxxxxxxxxxxxxxxxxxxxxxxxxxxxxxxxxxxxxxxxxxxxxxxxxxxxxxxxxxxxxxxxxxxxxxxxxxxxxxxxxxxxxxxxxxxxxxxxxxxx"
   ]
  },
  {
   "cell_type": "markdown",
   "id": "24d4ecab-0e1e-4547-b282-386585f037bf",
   "metadata": {},
   "source": [
    "Q.No-03    Write a python program to convert the given list of integers into a tuple of strings. Use map and\n",
    "lambda functions\n",
    "\n",
    "\n",
    "Given String: [1, 2, 3, 4, 5, 6, 7, 8, 9, 10]\n",
    "\n",
    "Expected output: ('1', '2', '3', '4', '5', '6', '7', '8', '9', '10')"
   ]
  },
  {
   "cell_type": "markdown",
   "id": "aeb1607c-08cb-446f-a491-6bb4188313b1",
   "metadata": {},
   "source": [
    "Ans:"
   ]
  },
  {
   "cell_type": "code",
   "execution_count": 11,
   "id": "f6842928-23c8-40bb-b887-0e13d8073d69",
   "metadata": {},
   "outputs": [],
   "source": [
    "Given_str = [1,2,3,4,5,6,7,8,9,10]"
   ]
  },
  {
   "cell_type": "code",
   "execution_count": 13,
   "id": "d71d4abe-1bd5-4d1f-a833-96be13144f02",
   "metadata": {},
   "outputs": [],
   "source": [
    "Conventer = tuple(map((lambda x: str(x)), Given_list))"
   ]
  },
  {
   "cell_type": "code",
   "execution_count": 14,
   "id": "9f5fa100-f0de-436f-88cd-66a61da22fd3",
   "metadata": {},
   "outputs": [
    {
     "name": "stdout",
     "output_type": "stream",
     "text": [
      "Converted tuple of strings: ('1', '2', '3', '4', '5', '6', '7', '8', '9', '10')\n"
     ]
    }
   ],
   "source": [
    "print('Converted tuple of strings:', Conventer)"
   ]
  },
  {
   "cell_type": "markdown",
   "id": "e853228b-859d-43d7-a71a-4fc6a9263b6d",
   "metadata": {},
   "source": [
    "xxxxxxxxxxxxxxxxxxxxxxxxxxxxxxxxxxxxxxxxxxxxxxxxxxxxxxxxxxxxxxxxxxxxxxxxxxxxxxxxxxxxxxxxxxxxxxxxxxxxxxxxxxxxxxxxxxxxxxxxxxxxxxx"
   ]
  },
  {
   "cell_type": "markdown",
   "id": "ce434bc2-377c-4a45-864e-0b6da2d4a410",
   "metadata": {},
   "source": [
    "Q.No-04    Write a python program using reduce function to compute the product of a list containing numbers\n",
    "from 1 to 25."
   ]
  },
  {
   "cell_type": "markdown",
   "id": "ba66bb53-2eff-4c84-aa5e-bf1f2f1ab193",
   "metadata": {},
   "source": [
    "Ans:"
   ]
  },
  {
   "cell_type": "code",
   "execution_count": 16,
   "id": "9c574430-30f2-49f6-90dd-b72efb5f62fc",
   "metadata": {},
   "outputs": [],
   "source": [
    "from functools import  reduce"
   ]
  },
  {
   "cell_type": "code",
   "execution_count": 17,
   "id": "89c3d8ff-2acc-42da-ab37-3bf86fdfbde3",
   "metadata": {},
   "outputs": [],
   "source": [
    "_1TO25_ = list(range(1,26))"
   ]
  },
  {
   "cell_type": "code",
   "execution_count": 18,
   "id": "576faffc-4ac6-4f1e-8154-2d0e5444bd63",
   "metadata": {},
   "outputs": [],
   "source": [
    "product = reduce(lambda x,y: x*y, _1TO25_)"
   ]
  },
  {
   "cell_type": "code",
   "execution_count": 19,
   "id": "0f2b0fdd-5275-4337-9517-a6ce8e0d51a6",
   "metadata": {},
   "outputs": [
    {
     "name": "stdout",
     "output_type": "stream",
     "text": [
      "Product of a list containing numbers from 1 to 25: 15511210043330985984000000\n"
     ]
    }
   ],
   "source": [
    "print('Product of a list containing numbers from 1 to 25:', product)"
   ]
  },
  {
   "cell_type": "markdown",
   "id": "ac05a3ac-d905-4ecc-8e3f-a9acaba47ad0",
   "metadata": {},
   "source": [
    "xxxxxxxxxxxxxxxxxxxxxxxxxxxxxxxxxxxxxxxxxxxxxxxxxxxxxxxxxxxxxxxxxxxxxxxxxxxxxxxxxxxxxxxxxxxxxxxxxxxxxxxxxxxxxxxxxxxxxxxxxxxxxxx"
   ]
  },
  {
   "cell_type": "markdown",
   "id": "59592f0a-47f5-41ac-aae3-18ec0bff7786",
   "metadata": {},
   "source": [
    "Q.No-05    Write a python program to filter the numbers in a given list that are divisible by 2 and 3 using the\n",
    "filter function.\n",
    "\n",
    "\n",
    "[2, 3, 6, 9, 27, 60, 90, 120, 55, 46]"
   ]
  },
  {
   "cell_type": "markdown",
   "id": "76c84898-50e9-4a09-b4f3-28eab00733f3",
   "metadata": {},
   "source": [
    "Ans:"
   ]
  },
  {
   "cell_type": "code",
   "execution_count": 20,
   "id": "535270bb-b335-4c2e-957b-591c65b75939",
   "metadata": {},
   "outputs": [],
   "source": [
    "Given_list = [2, 3, 6, 9, 27, 60, 90, 120, 55, 46]"
   ]
  },
  {
   "cell_type": "code",
   "execution_count": 23,
   "id": "78ee4bb6-db35-4158-bb1b-71e6354ece70",
   "metadata": {},
   "outputs": [
    {
     "data": {
      "text/plain": [
       "[6, 60, 90, 120]"
      ]
     },
     "execution_count": 23,
     "metadata": {},
     "output_type": "execute_result"
    }
   ],
   "source": [
    "list(filter(lambda x : x % 2 == 0 and x % 3 == 0, Given_list))"
   ]
  },
  {
   "cell_type": "markdown",
   "id": "bbed4aba-6eb4-4cc9-b952-394c419193a2",
   "metadata": {},
   "source": [
    "xxxxxxxxxxxxxxxxxxxxxxxxxxxxxxxxxxxxxxxxxxxxxxxxxxxxxxxxxxxxxxxxxxxxxxxxxxxxxxxxxxxxxxxxxxxxxxxxxxxxxxxxxxxxxxxxxxxxxxxxxxxxxxx"
   ]
  },
  {
   "cell_type": "markdown",
   "id": "bcd41611-8b95-4d04-9fd2-5e1a69028ce6",
   "metadata": {},
   "source": [
    "Q.No-06    Write a python program to find palindromes in the given list of strings using lambda and filter\n",
    "function.\n",
    "\n",
    "\n",
    "['python', 'php', 'aba', 'radar', 'level']"
   ]
  },
  {
   "cell_type": "markdown",
   "id": "aa7a10af-88e9-4fc2-ad8e-d01099cbf67e",
   "metadata": {},
   "source": [
    "Ans:"
   ]
  },
  {
   "cell_type": "code",
   "execution_count": 24,
   "id": "c95d8c6f-073d-491c-aac8-56e4114c2037",
   "metadata": {},
   "outputs": [],
   "source": [
    "Given_list = ['python', 'php', 'aba', 'radar', 'level']"
   ]
  },
  {
   "cell_type": "code",
   "execution_count": 26,
   "id": "1ae5a611-9b39-4858-9ccf-ea60e34cf7aa",
   "metadata": {},
   "outputs": [],
   "source": [
    "palindrome_list = list(filter(lambda x: x == x[::-1], Given_list))"
   ]
  },
  {
   "cell_type": "code",
   "execution_count": 28,
   "id": "e428e36a-2890-4762-9274-ba2316c85e54",
   "metadata": {},
   "outputs": [
    {
     "name": "stdout",
     "output_type": "stream",
     "text": [
      "Here, This is a palindromes in the given list: ['php', 'aba', 'radar', 'level']\n"
     ]
    }
   ],
   "source": [
    "print('Here, This is a palindromes in the given list:', palindrome_list)"
   ]
  },
  {
   "cell_type": "code",
   "execution_count": null,
   "id": "e97205fa-7217-4bd4-8662-64877ba90075",
   "metadata": {},
   "outputs": [],
   "source": []
  }
 ],
 "metadata": {
  "kernelspec": {
   "display_name": "Python 3 (ipykernel)",
   "language": "python",
   "name": "python3"
  },
  "language_info": {
   "codemirror_mode": {
    "name": "ipython",
    "version": 3
   },
   "file_extension": ".py",
   "mimetype": "text/x-python",
   "name": "python",
   "nbconvert_exporter": "python",
   "pygments_lexer": "ipython3",
   "version": "3.10.8"
  }
 },
 "nbformat": 4,
 "nbformat_minor": 5
}
